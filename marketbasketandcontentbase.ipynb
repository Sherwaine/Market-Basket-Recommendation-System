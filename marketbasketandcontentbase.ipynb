{
 "cells": [
  {
   "cell_type": "code",
   "execution_count": 20,
   "metadata": {},
   "outputs": [
    {
     "name": "stderr",
     "output_type": "stream",
     "text": [
      "C:\\Users\\Sher\\AppData\\Local\\Temp\\ipykernel_21492\\2915185881.py:17: FutureWarning: DataFrame.applymap has been deprecated. Use DataFrame.map instead.\n",
      "  basket = basket.applymap(lambda x: 1 if x > 0 else 0)\n",
      "c:\\Users\\Sher\\miniconda3\\envs\\pycaret3.11\\Lib\\site-packages\\mlxtend\\frequent_patterns\\fpcommon.py:109: DeprecationWarning: DataFrames with non-bool types result in worse computationalperformance and their support might be discontinued in the future.Please use a DataFrame with bool type\n",
      "  warnings.warn(\n"
     ]
    },
    {
     "name": "stdout",
     "output_type": "stream",
     "text": [
      "Recommendations for 'WHITE HANGING HEART T-LIGHT HOLDER':\n",
      "- JAM MAKING SET WITH JARS\n",
      "- REGENCY CAKESTAND 3 TIER\n",
      "- RED HANGING HEART T-LIGHT HOLDER\n",
      "- CANDLEHOLDER PINK HANGING HEART\n",
      "- HEART OF WICKER SMALL\n"
     ]
    }
   ],
   "source": [
    "import pandas as pd\n",
    "from mlxtend.frequent_patterns import apriori, association_rules\n",
    "import openpyxl\n",
    "\n",
    "# Load the dataset\n",
    "df = pd.read_excel('Online Retail.xlsx')\n",
    "\n",
    "# Filter out products bought more than 20 times\n",
    "product_counts = df['Description'].value_counts()\n",
    "frequent_products = product_counts[product_counts > 20]\n",
    "df_filtered = df[df['Description'].isin(frequent_products.index)]\n",
    "\n",
    "# Create a basket matrix\n",
    "basket = df_filtered.pivot_table(index='InvoiceNo', columns='Description', values='Quantity', aggfunc='sum', fill_value=0)\n",
    "\n",
    "# Convert to binary values: 1 if product was purchased (Quantity > 0), 0 otherwise\n",
    "basket = basket.applymap(lambda x: 1 if x > 0 else 0)\n",
    "\n",
    "# Apply Apriori algorithm with a minimum support of 0.01 and a minimum lift of 1.2\n",
    "frequent_itemsets = apriori(basket, min_support=0.01, use_colnames=True, low_memory=True)\n",
    "rules = association_rules(frequent_itemsets, metric='lift', min_threshold=1.2)\n",
    "\n",
    "# Function to recommend products based on a given product description\n",
    "def recommend_products(product_description, rules, top_n=5):\n",
    "    # Filter rules that have the given product in the antecedent\n",
    "    filtered_rules = rules[rules['antecedents'].apply(lambda x: product_description in x)]\n",
    "    \n",
    "    # Sort the filtered rules by lift in descending order\n",
    "    sorted_rules = filtered_rules.sort_values(by='lift', ascending=False)\n",
    "    \n",
    "    # Get the top N recommended products\n",
    "    recommendations = set()  # Use a set to automatically handle duplicates\n",
    "    \n",
    "    for _, rule in sorted_rules.iterrows():\n",
    "        consequent = tuple(rule['consequents'])\n",
    "        recommendations.update(consequent)  # Add consequent products to the set\n",
    "        \n",
    "    # Remove the original product from the recommendations (if present)\n",
    "    recommendations.discard(product_description)\n",
    "    \n",
    "    # Limit to top N recommendations\n",
    "    return list(recommendations)[:top_n]\n",
    "\n",
    "# Example usage: Recommend products for a given product\n",
    "product_description = 'WHITE HANGING HEART T-LIGHT HOLDER'  # Example product\n",
    "recommended_products = recommend_products(product_description, rules, top_n=5)\n",
    "\n",
    "# Display the recommended products\n",
    "print(f\"Recommendations for '{product_description}':\")\n",
    "for product in recommended_products:\n",
    "    print(f\"- {product}\")\n"
   ]
  }
 ],
 "metadata": {
  "kernelspec": {
   "display_name": "display-name",
   "language": "python",
   "name": "pycaret3.11"
  },
  "language_info": {
   "codemirror_mode": {
    "name": "ipython",
    "version": 3
   },
   "file_extension": ".py",
   "mimetype": "text/x-python",
   "name": "python",
   "nbconvert_exporter": "python",
   "pygments_lexer": "ipython3",
   "version": "3.11.10"
  }
 },
 "nbformat": 4,
 "nbformat_minor": 2
}
